{
 "cells": [
  {
   "cell_type": "code",
   "execution_count": null,
   "id": "0",
   "metadata": {},
   "outputs": [],
   "source": [
    "from pvlib.location import Location\n",
    "import pandas as pd\n",
    "import numpy as np\n",
    "import matplotlib.pyplot as plt\n",
    "import plotly.graph_objects as go\n",
    "import plotly.express as px\n",
    "\n",
    "site = Location(latitude=60.1695, longitude=24.9354, name=\"Helsinki\", altitude=10, tz=\"Europe/Helsinki\")"
   ]
  },
  {
   "cell_type": "code",
   "execution_count": null,
   "id": "1",
   "metadata": {},
   "outputs": [],
   "source": [
    "site"
   ]
  },
  {
   "cell_type": "code",
   "execution_count": null,
   "id": "2",
   "metadata": {},
   "outputs": [],
   "source": [
    "timestamp = pd.Timestamp('2021-08-05 12:00:00', tz='Europe/Helsinki')\n",
    "solar_pos = site.get_solarposition(timestamp)\n",
    "display(solar_pos)"
   ]
  },
  {
   "cell_type": "code",
   "execution_count": null,
   "id": "3",
   "metadata": {},
   "outputs": [],
   "source": []
  },
  {
   "cell_type": "code",
   "execution_count": null,
   "id": "4",
   "metadata": {},
   "outputs": [],
   "source": [
    "# Get solar position\n",
    "# solar_pos = site.get_solarposition(times)\n",
    "elevation = solar_pos['apparent_elevation'].iloc[0]\n",
    "azimuth = solar_pos['azimuth'].iloc[0]\n",
    "\n",
    "# Convert to 2D beam projection (unit circle)\n",
    "r = np.cos(np.radians(elevation))\n",
    "x = r * np.sin(np.radians(azimuth))\n",
    "y = r * np.cos(np.radians(azimuth))\n",
    "\n",
    "# Plot beam direction\n",
    "fig = go.Figure()\n",
    "fig.add_trace(go.Scatter(\n",
    "    x=[0, x],\n",
    "    y=[0, y],\n",
    "    mode='lines+markers+text',\n",
    "    line=dict(color='orange', width=4),\n",
    "    marker=dict(size=8),\n",
    "    text=[\"Observer\", \"Sun\"],\n",
    "    textposition=\"top center\"\n",
    "))\n",
    "\n",
    "fig.update_layout(\n",
    "    title=\"2D Sun Beam Direction Projection\",\n",
    "    xaxis_title=\"East-West Direction\",\n",
    "    yaxis_title=\"North-South Direction\",\n",
    "    xaxis=dict(scaleanchor=\"y\", scaleratio=1, range=[-1, 1]),\n",
    "    yaxis=dict(range=[-0.2, 1.2]),\n",
    "    height=600,\n",
    "    width=600,\n",
    "    showlegend=False\n",
    ")\n",
    "\n",
    "fig.show()"
   ]
  }
 ],
 "metadata": {
  "kernelspec": {
   "display_name": "my312",
   "language": "python",
   "name": "python3"
  },
  "language_info": {
   "codemirror_mode": {
    "name": "ipython",
    "version": 3
   },
   "file_extension": ".py",
   "mimetype": "text/x-python",
   "name": "python",
   "nbconvert_exporter": "python",
   "pygments_lexer": "ipython3",
   "version": "3.12.9"
  }
 },
 "nbformat": 4,
 "nbformat_minor": 5
}

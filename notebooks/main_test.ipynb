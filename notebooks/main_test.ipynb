{
 "cells": [
  {
   "cell_type": "code",
   "execution_count": null,
   "id": "0",
   "metadata": {},
   "outputs": [],
   "source": [
    "# import functions from the shadow_model folder\n",
    "import sys\n",
    "sys.path.append('..')\n",
    "from shadow_model.ray_utils import *\n",
    "from shadow_model.visual_utils import *\n",
    "from shadow_model.voxel_utils import *\n",
    "import argparse\n",
    "import os"
   ]
  },
  {
   "cell_type": "code",
   "execution_count": null,
   "id": "1",
   "metadata": {},
   "outputs": [],
   "source": [
    "import laspy\n",
    "import numpy as np\n",
    "\n",
    "# Parameters\n",
    "params = ModelParams(\n",
    "    base_k3=0.4,\n",
    "    base_k4=0.5,\n",
    "    base_k5=0.6,\n",
    "    building_k=8.0,\n",
    "    vegetation_weight=1.0,  # Adjust for your data scale\n",
    "    density_weight=0.01,  # Adjust for your data scale\n",
    "    shadow_gamma=1\n",
    ")\n",
    "\n",
    "# Load LiDAR data\n",
    "las_path = \"../data/houselas_re_veg_2.las\"\n",
    "las_file = laspy.read(las_path)\n",
    "utm_coords = np.vstack((las_file.x, las_file.y, las_file.z)).T\n",
    "classifications = las_file.classification\n",
    "\n",
    "# Parameters\n",
    "voxel_size = 1\n",
    "target_coords = np.array([532886, 6983516])\n",
    "target_z = find_z_at_target(utm_coords, target_coords)\n",
    "radius = 50\n",
    "altitude_range = np.arange(0, 91, 1)\n",
    "azimuth_range = np.arange(0, 361, 1)\n",
    "\n",
    "# Voxelization\n",
    "voxel_grid, min_bounds = voxelize(utm_coords, classifications, voxel_size)\n",
    "voxel_grid = fill_building_voxel_columns(voxel_grid)\n",
    "voxel_grid = expand_target_area(voxel_grid, min_bounds, voxel_size, target_coords, target_z, target_voxel_radius=1)\n",
    "\n",
    "# Compute Shadow Matrix\n",
    "shadow_matrix = create_shadow_matrix(altitude_range, azimuth_range, voxel_grid, min_bounds, voxel_size, target_coords, target_z, radius, params)\n",
    "\n",
    "# Visualize Shadow\n",
    "plot_shadow_polar(shadow_matrix, altitude_range, azimuth_range)\n",
    "\n",
    "# Save shadow results\n",
    "df_shadow = create_dataframe(shadow_matrix, altitude_range, azimuth_range)\n",
    "df_shadow.to_csv(\"../results/shadow_matrix_1.csv\")"
   ]
  },
  {
   "cell_type": "code",
   "execution_count": null,
   "id": "2",
   "metadata": {},
   "outputs": [],
   "source": []
  }
 ],
 "metadata": {
  "kernelspec": {
   "display_name": "my312",
   "language": "python",
   "name": "python3"
  },
  "language_info": {
   "codemirror_mode": {
    "name": "ipython",
    "version": 3
   },
   "file_extension": ".py",
   "mimetype": "text/x-python",
   "name": "python",
   "nbconvert_exporter": "python",
   "pygments_lexer": "ipython3",
   "version": "3.12.9"
  }
 },
 "nbformat": 4,
 "nbformat_minor": 5
}
